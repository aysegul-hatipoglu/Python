{
 "cells": [
  {
   "cell_type": "markdown",
   "id": "81b32cd9",
   "metadata": {},
   "source": [
    "### Grafik tanımı yapıyoruz"
   ]
  },
  {
   "cell_type": "code",
   "execution_count": 1,
   "id": "bc691cd3",
   "metadata": {},
   "outputs": [],
   "source": [
    "graf = {\n",
    "    'A':['B','C'],\n",
    "    'B':['D','E'],\n",
    "    'C':['F'],\n",
    "    'D':[],\n",
    "    'E':[],\n",
    "    'F':[],\n",
    "}"
   ]
  },
  {
   "cell_type": "code",
   "execution_count": 2,
   "id": "5a4f5d33",
   "metadata": {},
   "outputs": [],
   "source": [
    "## Grafik tanımı yapıyoruz"
   ]
  },
  {
   "cell_type": "code",
   "execution_count": 3,
   "id": "be3f9b1d",
   "metadata": {},
   "outputs": [],
   "source": [
    "stack = [] #sıralamak için kullanılır\n",
    "visit = [] #düğümleri gezmek için kullanılır"
   ]
  },
  {
   "cell_type": "markdown",
   "id": "a04a862f",
   "metadata": {},
   "source": [
    "### BFS Algoritmasının kodlanması"
   ]
  },
  {
   "cell_type": "code",
   "execution_count": 4,
   "id": "6c292cad",
   "metadata": {},
   "outputs": [],
   "source": [
    "def Breadth_First_Search(graf, visit, node):\n",
    "    visit.append(node)\n",
    "    stack.append(node)\n",
    "    \n",
    "    while stack:\n",
    "        s = stack.pop(0)\n",
    "        print(s, end=\"\")\n",
    "        \n",
    "        for k in graf[s]:\n",
    "            if k not in visit:\n",
    "                stack.append(k)"
   ]
  },
  {
   "cell_type": "markdown",
   "id": "7296a6e4",
   "metadata": {},
   "source": [
    "### Kodların çalıştırılması"
   ]
  },
  {
   "cell_type": "code",
   "execution_count": 5,
   "id": "a85d72d0",
   "metadata": {},
   "outputs": [
    {
     "name": "stdout",
     "output_type": "stream",
     "text": [
      "BDE"
     ]
    }
   ],
   "source": [
    "Breadth_First_Search(graf, visit, 'B')"
   ]
  }
 ],
 "metadata": {
  "kernelspec": {
   "display_name": "Python 3 (ipykernel)",
   "language": "python",
   "name": "python3"
  },
  "language_info": {
   "codemirror_mode": {
    "name": "ipython",
    "version": 3
   },
   "file_extension": ".py",
   "mimetype": "text/x-python",
   "name": "python",
   "nbconvert_exporter": "python",
   "pygments_lexer": "ipython3",
   "version": "3.9.7"
  }
 },
 "nbformat": 4,
 "nbformat_minor": 5
}
