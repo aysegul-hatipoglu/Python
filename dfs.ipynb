{
 "cells": [
  {
   "cell_type": "markdown",
   "id": "81b32cd9",
   "metadata": {},
   "source": [
    "## DFS(Depth-First Search)\n",
    "### Grafik tanımı yapıyoruz"
   ]
  },
  {
   "cell_type": "code",
   "execution_count": 1,
   "id": "bc691cd3",
   "metadata": {},
   "outputs": [],
   "source": [
    "graf = {\n",
    "    'A':['B','C'],\n",
    "    'B':['D','E'],\n",
    "    'C':['F'],\n",
    "    'D':[],\n",
    "    'E':[],\n",
    "    'F':[],\n",
    "}"
   ]
  },
  {
   "cell_type": "code",
   "execution_count": 2,
   "id": "be3f9b1d",
   "metadata": {},
   "outputs": [],
   "source": [
    "visit = set() #düğümleri gezmek için kullanılır"
   ]
  },
  {
   "cell_type": "markdown",
   "id": "a04a862f",
   "metadata": {},
   "source": [
    "### DFS Algoritmasının kodlanması"
   ]
  },
  {
   "cell_type": "code",
   "execution_count": 3,
   "id": "6c292cad",
   "metadata": {},
   "outputs": [],
   "source": [
    "def Depth_First_Search(graf, visit, node):\n",
    "    if node not in visit:\n",
    "        print(node)\n",
    "        visit.add(node)\n",
    "        for k in graf[node]:\n",
    "            Depth_First_Search(graf, visit, k)"
   ]
  },
  {
   "cell_type": "markdown",
   "id": "7296a6e4",
   "metadata": {},
   "source": [
    "### Kodların çalıştırılması"
   ]
  },
  {
   "cell_type": "code",
   "execution_count": 4,
   "id": "a85d72d0",
   "metadata": {},
   "outputs": [
    {
     "name": "stdout",
     "output_type": "stream",
     "text": [
      "A\n",
      "B\n",
      "D\n",
      "E\n",
      "C\n",
      "F\n"
     ]
    }
   ],
   "source": [
    "Depth_First_Search(graf, visit, 'A')"
   ]
  }
 ],
 "metadata": {
  "kernelspec": {
   "display_name": "Python 3 (ipykernel)",
   "language": "python",
   "name": "python3"
  },
  "language_info": {
   "codemirror_mode": {
    "name": "ipython",
    "version": 3
   },
   "file_extension": ".py",
   "mimetype": "text/x-python",
   "name": "python",
   "nbconvert_exporter": "python",
   "pygments_lexer": "ipython3",
   "version": "3.9.7"
  }
 },
 "nbformat": 4,
 "nbformat_minor": 5
}
